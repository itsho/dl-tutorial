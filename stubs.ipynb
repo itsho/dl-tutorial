{
 "cells": [
  {
   "cell_type": "markdown",
   "metadata": {},
   "source": [
    "# Imports"
   ]
  },
  {
   "cell_type": "code",
   "execution_count": null,
   "metadata": {},
   "outputs": [],
   "source": [
    "import matplotlib.pyplot as plt\n",
    "import numpy as np\n",
    "from keras.datasets import mnist\n",
    "from keras.models import Sequential\n",
    "from keras.layers import Dense\n",
    "from keras.utils import np_utils\n",
    "from keras.layers import Dropout\n",
    "from keras.layers import Flatten\n",
    "from keras.layers.convolutional import Conv2D\n",
    "from keras.layers.convolutional import MaxPooling2D"
   ]
  },
  {
   "cell_type": "markdown",
   "metadata": {
    "id": "_ERC-KKA-FC6",
    "colab_type": "text"
   },
   "source": [
    "# Data"
   ]
  },
  {
   "cell_type": "code",
   "execution_count": 0,
   "metadata": {
    "id": "mA0joW1K68Qw",
    "colab_type": "code",
    "colab": {}
   },
   "outputs": [],
   "source": [
    "# Plot ad hoc mnist instances\n",
    "# load (downloaded if needed) the MNIST dataset\n",
    "(X_train, y_train), (X_test, y_test) = mnist.load_data()\n",
    "# plot 4 images as gray scale\n",
    "plt.subplot(221)\n",
    "plt.imshow(X_train[0], cmap=plt.get_cmap('gray'))\n",
    "plt.subplot(222)\n",
    "plt.imshow(X_train[1], cmap=plt.get_cmap('gray'))\n",
    "plt.subplot(223)\n",
    "plt.imshow(X_train[2], cmap=plt.get_cmap('gray'))\n",
    "plt.subplot(224)\n",
    "plt.imshow(X_train[3], cmap=plt.get_cmap('gray'))\n",
    "# show the plot\n",
    "plt.show()"
   ]
  },
  {
   "cell_type": "code",
   "execution_count": 0,
   "metadata": {
    "id": "r94WbWQc_L6N",
    "colab_type": "code",
    "colab": {}
   },
   "outputs": [],
   "source": [
    "# flatten 28*28 images to a 784 vector for each image\n",
    "num_pixels = X_train.shape[1] * X_train.shape[2]\n",
    "X_train = X_train.reshape(X_train.shape[0], num_pixels).astype('float32')\n",
    "X_test = X_test.reshape(X_test.shape[0], num_pixels).astype('float32')\n",
    "\n",
    "# normalize inputs from 0-255 to 0-1\n",
    "X_train = X_train / 255\n",
    "X_test = X_test / 255"
   ]
  },
  {
   "cell_type": "code",
   "execution_count": 0,
   "metadata": {
    "id": "uPdhm3GeBzIG",
    "colab_type": "code",
    "colab": {}
   },
   "outputs": [],
   "source": [
    "# one-hot labels\n",
    "y_train = np_utils.to_categorical(y_train)\n",
    "y_test = np_utils.to_categorical(y_test)\n",
    "num_classes = y_test.shape[1]"
   ]
  },
  {
   "cell_type": "markdown",
   "metadata": {},
   "source": [
    "# Training Stats and Prediction"
   ]
  },
  {
   "cell_type": "code",
   "execution_count": 0,
   "metadata": {
    "id": "v3eaelFdCijj",
    "colab_type": "code",
    "colab": {}
   },
   "outputs": [],
   "source": [
    "# Show training progress\n",
    "plt.plot(history.history['acc'], 'b--')\n",
    "plt.plot(history.history['val_acc'], 'r--')\n",
    "plt.title('Model Accuracy')\n",
    "plt.ylabel('Accuracy')\n",
    "plt.xlabel('Epoch')\n",
    "plt.legend(['Train Accuracy', 'Test Accuracy'], loc='lower right')\n",
    "plt.show()\n",
    "plt.plot(history.history['loss'], 'b-')\n",
    "plt.plot(history.history['val_loss'], 'r-')\n",
    "plt.title('Model Loss')\n",
    "plt.ylabel('Loss')\n",
    "plt.xlabel('Epoch')\n",
    "plt.legend(['Train Loss', 'Test Loss'], loc='upper right')\n",
    "plt.show()"
   ]
  },
  {
   "cell_type": "code",
   "execution_count": 0,
   "metadata": {
    "id": "5032FWXnHgxm",
    "colab_type": "code",
    "colab": {}
   },
   "outputs": [],
   "source": [
    "# Prediction\n",
    "test_idx = 157\n",
    "\n",
    "image = X_test[test_idx]\n",
    "image = image.reshape(28, 28)\n",
    "image = image * 255\n",
    "image = image.astype(np.uint8)\n",
    "plt.imshow(image, cmap=plt.get_cmap('gray'))\n",
    "plt.show()\n",
    "\n",
    "label = y_test[test_idx]\n",
    "print(f\"label: {label}\")\n",
    "\n",
    "prediction = model.predict(X_test[test_idx:test_idx+1])\n",
    "print(f\"prediction: {prediction}\")"
   ]
  }
 ],
 "metadata": {
  "colab": {
   "name": "MNIST_1.ipynb",
   "version": "0.3.2",
   "provenance": [],
   "collapsed_sections": []
  },
  "kernelspec": {
   "name": "python3",
   "display_name": "Python 3"
  }
 },
 "nbformat": 4,
 "nbformat_minor": 0
}
